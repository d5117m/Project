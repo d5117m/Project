{
  "metadata": {
    "kernelspec": {
      "name": "python",
      "display_name": "Python (Pyodide)",
      "language": "python"
    },
    "language_info": {
      "codemirror_mode": {
        "name": "python",
        "version": 3
      },
      "file_extension": ".py",
      "mimetype": "text/x-python",
      "name": "python",
      "nbconvert_exporter": "python",
      "pygments_lexer": "ipython3",
      "version": "3.8"
    }
  },
  "nbformat_minor": 5,
  "nbformat": 4,
  "cells": [
    {
      "id": "0719ed59-4769-471a-99e0-82be95bc5072",
      "cell_type": "markdown",
      "source": "# Data Science Tools and Ecosystem",
      "metadata": {}
    },
    {
      "id": "ba8db268-34a7-47ba-a6d8-9a396faf3a07",
      "cell_type": "markdown",
      "source": "In this notebook, Data Science Tools and Ecosystem are summarized.",
      "metadata": {}
    },
    {
      "id": "0e0897a6-e93f-4b33-b082-bf48bbb06f98",
      "cell_type": "markdown",
      "source": "Objectives:\n\n- Python\n- R\n- Java",
      "metadata": {}
    },
    {
      "id": "b3dc3691-cde8-475f-9301-eb64fe55ef02",
      "cell_type": "markdown",
      "source": "Some of the popular languages that Data Scientists use are:\n1. Python\n2. R\n3. Java",
      "metadata": {}
    },
    {
      "id": "5fb29e83-8803-44a6-9cb1-129dc3d1faf9",
      "cell_type": "markdown",
      "source": "Some of the commonly used libraries used by Data Scientists include:\n1. NumPy\n2. Pandas\n3. Matplotlib",
      "metadata": {}
    },
    {
      "id": "d5ea3b09-ca0b-4e07-92fb-3c635e7716fc",
      "cell_type": "markdown",
      "source": "| Data Science Tools |\n| ---- | \n| Jupyter Notebooks |\n| R Studio |\n| Visual Studio Code | ",
      "metadata": {}
    },
    {
      "id": "bf4e0263-322a-4504-ac79-a616d33e5570",
      "cell_type": "markdown",
      "source": "### Below are a few examples of evaluating arithmetic expressions in Python",
      "metadata": {}
    },
    {
      "id": "9a33a3a0-bb18-4b1b-961a-f317338d36e7",
      "cell_type": "markdown",
      "source": "<details><summary> This a simple arithmetic expression to mutiply then add integers </summary>",
      "metadata": {}
    },
    {
      "id": "f073348c-8fff-4058-8b8d-adc7482af5d5",
      "cell_type": "code",
      "source": "(3*4)+5",
      "metadata": {
        "trusted": true
      },
      "outputs": [
        {
          "execution_count": 3,
          "output_type": "execute_result",
          "data": {
            "text/plain": "17"
          },
          "metadata": {}
        }
      ],
      "execution_count": 3
    },
    {
      "id": "d583dd56-2d5a-43bc-92a9-f17ee1811766",
      "cell_type": "markdown",
      "source": "<details><summary> This will convert 200 minutes to hours by diving by 60 </summary>",
      "metadata": {}
    },
    {
      "id": "f0104ee5-deda-4794-bb7c-72a4c842799d",
      "cell_type": "code",
      "source": "200 / 60",
      "metadata": {
        "trusted": true
      },
      "outputs": [],
      "execution_count": null
    },
    {
      "id": "e2513466-18b9-4acf-86a5-4735f51f68a2",
      "cell_type": "markdown",
      "source": "## Author\nDiana Mendez",
      "metadata": {}
    },
    {
      "id": "89fc0a89-759e-40c1-8f9f-c9acd248701e",
      "cell_type": "code",
      "source": "",
      "metadata": {
        "trusted": true
      },
      "outputs": [],
      "execution_count": null
    }
  ]
}